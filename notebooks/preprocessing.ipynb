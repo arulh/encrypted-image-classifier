{
 "cells": [
  {
   "cell_type": "code",
   "execution_count": 40,
   "metadata": {},
   "outputs": [],
   "source": [
    "import pandas as pd\n",
    "import random\n",
    "import os\n",
    "from stegimage import encoder, decoder\n",
    "from PIL import Image\n",
    "import csv"
   ]
  },
  {
   "cell_type": "code",
   "execution_count": 11,
   "metadata": {},
   "outputs": [],
   "source": [
    "# Path to the folder containing the images\n",
    "folder_path = '../data/raw/dogs/'\n",
    "\n",
    "# Get the list of image file names in the folder\n",
    "image_files = [file for file in os.listdir(folder_path) if file.endswith('.JPEG')]\n",
    "\n",
    "# Randomly shuffle the image file names\n",
    "random.shuffle(image_files)\n",
    "\n",
    "# Split the image file names into train and test sets\n",
    "split_ratio = 0.5\n",
    "train_size = int(len(image_files) * split_ratio)\n",
    "encrypted_images = image_files[:train_size]\n",
    "non_encrypted_images = image_files[train_size:]"
   ]
  },
  {
   "cell_type": "code",
   "execution_count": 41,
   "metadata": {},
   "outputs": [],
   "source": [
    "save_path = '../data/processed/dogs/'\n",
    "\n",
    "with open(f\"../data/processed/labels/dogs_labels.csv\", 'w') as f:\n",
    "    writer = csv.writer(f)\n",
    "\n",
    "    for file in encrypted_images:\n",
    "        im = Image.open(folder_path + file)\n",
    "        eim, key = encoder.encode_stencil(\"hello\", img=im, text_size=10)\n",
    "        new_name = file[:-4] + \"png\"\n",
    "        eim.save(save_path + new_name)\n",
    "        \n",
    "        writer.writerow([new_name, 1])\n",
    "\n",
    "    for file in non_encrypted_images:\n",
    "        im = Image.open(folder_path + file)\n",
    "        new_name = file[:-4] + \"png\"\n",
    "        im.save(save_path + new_name)\n",
    "\n",
    "        writer.writerow([new_name, 0])"
   ]
  }
 ],
 "metadata": {
  "kernelspec": {
   "display_name": "ml_env",
   "language": "python",
   "name": "python3"
  },
  "language_info": {
   "codemirror_mode": {
    "name": "ipython",
    "version": 3
   },
   "file_extension": ".py",
   "mimetype": "text/x-python",
   "name": "python",
   "nbconvert_exporter": "python",
   "pygments_lexer": "ipython3",
   "version": "3.11.4"
  }
 },
 "nbformat": 4,
 "nbformat_minor": 2
}
